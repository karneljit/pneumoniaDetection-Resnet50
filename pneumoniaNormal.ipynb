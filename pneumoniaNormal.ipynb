{
 "cells": [
  {
   "cell_type": "code",
   "execution_count": null,
   "metadata": {},
   "outputs": [],
   "source": [
    "from google.colab import files\n",
    "uploaded = files.upload()"
   ]
  },
  {
   "cell_type": "code",
   "execution_count": null,
   "metadata": {},
   "outputs": [],
   "source": [
    "import numpy as np\n",
    "#load pneumoniamnist dataset\n",
    "pneumoniamnist = np.load('pneumoniamnist.npz')"
   ]
  },
  {
   "cell_type": "code",
   "execution_count": null,
   "metadata": {},
   "outputs": [],
   "source": [
    "pneumoniamnist['train_images'].shape, pneumoniamnist['train_labels'].shape"
   ]
  },
  {
   "cell_type": "code",
   "execution_count": null,
   "metadata": {},
   "outputs": [],
   "source": [
    "(x_train, y_train), (x_test, y_test) = (pneumoniamnist['train_images'], pneumoniamnist['train_labels']), (pneumoniamnist['test_images'], pneumoniamnist['test_labels'])\n",
    "(x_val, y_val) = (pneumoniamnist['val_images'], pneumoniamnist['val_labels'])\n",
    "\n",
    "#print(x_train.shape)  # (4708, 28, 28)\n",
    "#print(y_train.shape)  # (4708, 1)\n",
    "#print(y_train[40:50])  # class-label\n",
    "\n",
    "#print(x_test.shape)  # (624, 28, 28)\n",
    "#print(y_test.shape)  # (624, 1)"
   ]
  },
  {
   "cell_type": "code",
   "execution_count": null,
   "metadata": {},
   "outputs": [],
   "source": [
    "\n",
    "x_train = x_train.astype('float32')\n",
    "x_test = x_test.astype('float32')\n",
    "\n",
    "# rescale value to [0 - 1] from [0 - 255]\n",
    "x_train /= 255  # rescaling\n",
    "x_test /= 255   # rescaling\n",
    "\n",
    "x_val = x_val.astype('float32')/255"
   ]
  },
  {
   "cell_type": "code",
   "execution_count": null,
   "metadata": {},
   "outputs": [],
   "source": [
    "x_train.shape+(1,)"
   ]
  },
  {
   "cell_type": "code",
   "execution_count": null,
   "metadata": {},
   "outputs": [],
   "source": [
    "x_train = np.expand_dims(x_train, axis=3)\n",
    "print('x_train shape:',x_train.shape)\n",
    "x_test = np.expand_dims(x_test, axis=3)\n",
    "print('x_test shape:',x_test.shape)\n",
    "x_val = np.expand_dims(x_val, axis=3)\n",
    "print('x_val shape:',x_val.shape)"
   ]
  },
  {
   "cell_type": "code",
   "execution_count": null,
   "metadata": {},
   "outputs": [],
   "source": [
    "num_classes = 2\n",
    "\n",
    "from tensorflow.keras.utils import to_categorical\n",
    "y_train_onehot = to_categorical(y_train)\n",
    "y_test_onehot = to_categorical(y_test)\n",
    "y_val_onehot = to_categorical(y_val)\n",
    "\n",
    "print('y_train_onehot shape:', y_train_onehot.shape)\n",
    "print('y_test_onehot shape:', y_test_onehot.shape)\n",
    "print('y_val_onehot shape:', y_val_onehot.shape)"
   ]
  },
  {
   "cell_type": "code",
   "execution_count": null,
   "metadata": {},
   "outputs": [],
   "source": [
    "# Ensure image format: resize + grayscale to RGB\n",
    "import tensorflow as tf\n",
    "from tensorflow.keras.applications import ResNet50\n",
    "from tensorflow.keras.models import Model\n",
    "from tensorflow.keras.layers import GlobalAveragePooling2D, Dense, Dropout,Input, BatchNormalization\n",
    "from tensorflow.keras.optimizers import Adam\n",
    "from tensorflow.keras.regularizers import l2\n",
    "\n",
    "\n",
    "x_train = tf.image.resize(x_train, [96, 96])\n",
    "x_train = tf.image.grayscale_to_rgb(x_train)\n",
    "x_val = tf.image.resize(x_val, [96, 96])\n",
    "x_val = tf.image.grayscale_to_rgb(x_val)\n",
    "x_test = tf.image.resize(x_test, [96, 96])\n",
    "x_test = tf.image.grayscale_to_rgb(x_test)\n",
    "\n",
    "x_train = x_train.numpy()\n",
    "x_val = x_val.numpy()\n",
    "x_test = x_test.numpy()\n",
    "\n",
    "num_classes = y_train_onehot.shape[1]\n",
    "\n",
    "input = Input(shape=x_train.shape[1:])\n",
    "base_model = ResNet50(weights='imagenet', include_top=False, input_tensor=input)\n",
    "base_model.trainable = False\n",
    "\n",
    "x = base_model.output\n",
    "x = GlobalAveragePooling2D()(x)\n",
    "x = Dropout(0.3)(x)\n",
    "output = Dense(num_classes, activation='softmax')(x)\n",
    "model = Model(inputs=input, outputs=output)\n",
    "\n",
    "opt = Adam(learning_rate=0.001)\n",
    "model.compile(optimizer=opt, loss='categorical_crossentropy', metrics=['accuracy'])\n"
   ]
  },
  {
   "cell_type": "code",
   "execution_count": null,
   "metadata": {},
   "outputs": [],
   "source": [
    "cnn_history = model.fit(x_train, y_train_onehot,\n",
    "                  batch_size=8,\n",
    "                  epochs=10,\n",
    "                  validation_data=(x_val, y_val_onehot))"
   ]
  },
  {
   "cell_type": "code",
   "execution_count": null,
   "metadata": {},
   "outputs": [],
   "source": [
    "import matplotlib.pyplot as plt\n",
    "import plotly.graph_objects as go\n",
    "plt.clf()\n",
    "fig = go.Figure()\n",
    "fig.add_trace(go.Scatter( y=cnn_history.history['accuracy'],\n",
    "              name='Train'))\n",
    "fig.add_trace(go.Scatter( y=cnn_history.history['val_accuracy'],\n",
    "              name='Valid'))\n",
    "fig.update_layout(height=500,width=700,\n",
    "              title='Accuracy for race feature',\n",
    "              xaxis_title='Epoch',\n",
    "              yaxis_title='Accuracy')\n",
    "fig.show()"
   ]
  },
  {
   "cell_type": "code",
   "execution_count": null,
   "metadata": {},
   "outputs": [],
   "source": []
  },
  {
   "cell_type": "code",
   "execution_count": null,
   "metadata": {},
   "outputs": [],
   "source": [
    "from sklearn.metrics import classification_report\n",
    "from sklearn.metrics import confusion_matrix\n",
    "import itertools\n",
    "\n",
    "classes = ['normal','pneumonia']\n",
    "print(classification_report(y_test, y_pred, target_names=classes))\n",
    "\n",
    "print (\"**************************************************************\")\n",
    "\n",
    "cm = confusion_matrix(y_test, y_pred)\n",
    "\n",
    "plt.figure(figsize=(5,5))\n",
    "plt.title('confusion matrix')\n",
    "tick_marks = np.arange(len(classes))\n",
    "plt.xticks(tick_marks, classes, rotation=45)\n",
    "plt.yticks(tick_marks, classes)\n",
    "\n",
    "fmt = 'd' #'.2f'\n",
    "thresh = cm.max() / 2.\n",
    "for i, j in itertools.product(range(cm.shape[0]), range(cm.shape[1])):\n",
    "    plt.text(j, i, format(cm[i, j], fmt),\n",
    "            horizontalalignment=\"center\",\n",
    "            color=\"white\" if cm[i, j] > thresh else \"black\")\n",
    "\n",
    "plt.ylabel('True label')\n",
    "plt.xlabel('Predicted label')\n",
    "plt.tight_layout()\n",
    "\n",
    "plt.imshow(cm, interpolation='nearest', cmap=plt.cm.Blues)"
   ]
  },
  {
   "cell_type": "code",
   "execution_count": null,
   "metadata": {},
   "outputs": [],
   "source": [
    "from sklearn.metrics import roc_curve, roc_auc_score\n",
    "import matplotlib.pyplot as plt\n",
    "\n",
    "fpr, tpr, _ = roc_curve(y_test, y_pred)\n",
    "roc_auc = roc_auc_score(y_test, y_pred)\n",
    "\n",
    "plt.figure(figsize=(5, 3))\n",
    "plt.plot(fpr, tpr, label=f\"AUC = {roc_auc:.2f}\")\n",
    "plt.plot([0, 1], [0, 1], 'k--')\n",
    "plt.xlabel(\"False Positive Rate\")\n",
    "plt.ylabel(\"True Positive Rate\")\n",
    "plt.title(\"ROC Curve\")\n",
    "plt.legend(loc=\"lower right\")\n",
    "plt.grid()\n",
    "plt.show()"
   ]
  }
 ],
 "metadata": {
  "kernelspec": {
   "display_name": "Python 3",
   "language": "python",
   "name": "python3"
  },
  "language_info": {
   "codemirror_mode": {
    "name": "ipython",
    "version": 3
   },
   "file_extension": ".py",
   "mimetype": "text/x-python",
   "name": "python",
   "nbconvert_exporter": "python",
   "pygments_lexer": "ipython3",
   "version": "3.7.3"
  }
 },
 "nbformat": 4,
 "nbformat_minor": 2
}
